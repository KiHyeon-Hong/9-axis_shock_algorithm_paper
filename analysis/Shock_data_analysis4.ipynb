{
 "cells": [
  {
   "cell_type": "markdown",
   "metadata": {},
   "source": [
    "<h2>9축센서 기반의 충돌감지 알고리즘 분석자료</h2>"
   ]
  },
  {
   "cell_type": "code",
   "execution_count": 1,
   "metadata": {},
   "outputs": [],
   "source": [
    "import pandas as pd\n",
    "import matplotlib as mpl\n",
    "import matplotlib.pylab as plt\n",
    "import seaborn as sns\n",
    "import numpy as np\n",
    "import statsmodels.api as sm\n",
    "from scipy import stats\n",
    "import math"
   ]
  },
  {
   "cell_type": "code",
   "execution_count": 2,
   "metadata": {},
   "outputs": [],
   "source": [
    "plt.rcParams[\"figure.figsize\"] = (8,4)"
   ]
  },
  {
   "cell_type": "markdown",
   "metadata": {},
   "source": [
    "<h3>9축 데이터 파일 읽기</h3>"
   ]
  },
  {
   "cell_type": "code",
   "execution_count": 3,
   "metadata": {},
   "outputs": [],
   "source": [
    "file_path = 'D:/Data/log.csv'\n",
    "data = pd.read_csv(file_path, engine='python')"
   ]
  },
  {
   "cell_type": "code",
   "execution_count": 4,
   "metadata": {},
   "outputs": [
    {
     "data": {
      "text/html": [
       "<div>\n",
       "<style scoped>\n",
       "    .dataframe tbody tr th:only-of-type {\n",
       "        vertical-align: middle;\n",
       "    }\n",
       "\n",
       "    .dataframe tbody tr th {\n",
       "        vertical-align: top;\n",
       "    }\n",
       "\n",
       "    .dataframe thead th {\n",
       "        text-align: right;\n",
       "    }\n",
       "</style>\n",
       "<table border=\"1\" class=\"dataframe\">\n",
       "  <thead>\n",
       "    <tr style=\"text-align: right;\">\n",
       "      <th></th>\n",
       "      <th>MeasuringCycle</th>\n",
       "      <th>CallCycle</th>\n",
       "      <th>Weak</th>\n",
       "      <th>Strong</th>\n",
       "      <th>Total</th>\n",
       "    </tr>\n",
       "  </thead>\n",
       "  <tbody>\n",
       "    <tr>\n",
       "      <th>0</th>\n",
       "      <td>5</td>\n",
       "      <td>10</td>\n",
       "      <td>165</td>\n",
       "      <td>54</td>\n",
       "      <td>219</td>\n",
       "    </tr>\n",
       "    <tr>\n",
       "      <th>1</th>\n",
       "      <td>10</td>\n",
       "      <td>10</td>\n",
       "      <td>165</td>\n",
       "      <td>54</td>\n",
       "      <td>219</td>\n",
       "    </tr>\n",
       "    <tr>\n",
       "      <th>2</th>\n",
       "      <td>20</td>\n",
       "      <td>10</td>\n",
       "      <td>0</td>\n",
       "      <td>0</td>\n",
       "      <td>0</td>\n",
       "    </tr>\n",
       "    <tr>\n",
       "      <th>3</th>\n",
       "      <td>40</td>\n",
       "      <td>10</td>\n",
       "      <td>0</td>\n",
       "      <td>0</td>\n",
       "      <td>0</td>\n",
       "    </tr>\n",
       "    <tr>\n",
       "      <th>4</th>\n",
       "      <td>50</td>\n",
       "      <td>10</td>\n",
       "      <td>0</td>\n",
       "      <td>0</td>\n",
       "      <td>0</td>\n",
       "    </tr>\n",
       "  </tbody>\n",
       "</table>\n",
       "</div>"
      ],
      "text/plain": [
       "   MeasuringCycle  CallCycle  Weak  Strong  Total\n",
       "0               5         10   165      54    219\n",
       "1              10         10   165      54    219\n",
       "2              20         10     0       0      0\n",
       "3              40         10     0       0      0\n",
       "4              50         10     0       0      0"
      ]
     },
     "execution_count": 4,
     "metadata": {},
     "output_type": "execute_result"
    }
   ],
   "source": [
    "data.head()"
   ]
  },
  {
   "cell_type": "markdown",
   "metadata": {},
   "source": [
    "<br>\n",
    "<h3>9축 데이터 측정 주기 및 알고리즘 호출 주기에 따른 그룹화</h3>\n",
    "<hr>\n",
    "\n",
    "- 10ms 간격의 9축 데이터 측정 주기 결과와 1,000ms 간격의 알고리즘 호출 주기 결과 그룹화"
   ]
  },
  {
   "cell_type": "code",
   "execution_count": 5,
   "metadata": {},
   "outputs": [],
   "source": [
    "measuringCycle = data[data['MeasuringCycle'] == 10]"
   ]
  },
  {
   "cell_type": "code",
   "execution_count": 6,
   "metadata": {},
   "outputs": [],
   "source": [
    "callCycle = data[data['CallCycle'] == 1000]"
   ]
  },
  {
   "cell_type": "markdown",
   "metadata": {},
   "source": [
    "<br>\n",
    "<h3>충돌감지 알고리즘 호출 주기에 따른 충돌 감지 정확도 평가</h3>\n",
    "<hr>"
   ]
  },
  {
   "cell_type": "code",
   "execution_count": 7,
   "metadata": {},
   "outputs": [],
   "source": [
    "value_a = []\n",
    "value_b = []\n",
    "\n",
    "for i in range(len(measuringCycle)):\n",
    "    value_a.append(measuringCycle.iloc[i]['Weak'])\n",
    "    value_b.append(measuringCycle.iloc[i]['Strong'])"
   ]
  },
  {
   "cell_type": "code",
   "execution_count": 8,
   "metadata": {
    "scrolled": false
   },
   "outputs": [
    {
     "data": {
      "image/png": "[encoded data removed]",
      "text/plain": [
       "<Figure size 576x288 with 1 Axes>"
      ]
     },
     "metadata": {
      "needs_background": "light"
     },
     "output_type": "display_data"
    }
   ],
   "source": [
    "topics = ['10', '20', '40', '50', '100', '200', '400', '500', '1000', '2000', '3000']\n",
    "\n",
    "def create_x(t, w, n, d):\n",
    "    return [t*x + w*n for x in range(d)]\n",
    "\n",
    "value_a_x = create_x(2, 0.8, 1, 11)\n",
    "value_b_x = create_x(2, 0.8, 2, 11)\n",
    "\n",
    "ax = plt.subplot()\n",
    "ax.bar(value_a_x, value_a, color='#00000022', label='Weak collision')\n",
    "ax.bar(value_b_x, value_b, color='#000000FF', label='Strong collision')\n",
    "\n",
    "middle_x = [(a+b)/2 for (a,b) in zip(value_a_x, value_b_x)]\n",
    "\n",
    "ax.set_xticks(middle_x)\n",
    "ax.set_xticklabels(topics)\n",
    "\n",
    "plt.legend(loc='lower right', fontsize=15, bbox_to_anchor=(1.41, -0.021))\n",
    "\n",
    "plt.show()"
   ]
  },
  {
   "cell_type": "markdown",
   "metadata": {},
   "source": [
    "<br>\n",
    "<h3>9축 데이터 측정 주기에 따른 충돌 감지 정확도 평가</h3>\n",
    "<hr>"
   ]
  },
  {
   "cell_type": "code",
   "execution_count": 9,
   "metadata": {},
   "outputs": [],
   "source": [
    "value_a = []\n",
    "value_b = []\n",
    "\n",
    "for i in range(len(callCycle)):\n",
    "    value_a.append(callCycle.iloc[i]['Weak'])\n",
    "    value_b.append(callCycle.iloc[i]['Strong'])"
   ]
  },
  {
   "cell_type": "code",
   "execution_count": 10,
   "metadata": {
    "scrolled": false
   },
   "outputs": [
    {
     "data": {
      "image/png": "[encoded data removed]",
      "text/plain": [
       "<Figure size 576x288 with 1 Axes>"
      ]
     },
     "metadata": {
      "needs_background": "light"
     },
     "output_type": "display_data"
    }
   ],
   "source": [
    "topics = ['5', '10', '20', '40', '50', '100', '200', '500', '1000']\n",
    "\n",
    "def create_x(t, w, n, d):\n",
    "    return [t*x + w*n for x in range(d)]\n",
    "\n",
    "value_a_x = create_x(2, 0.8, 1, 9)\n",
    "value_b_x = create_x(2, 0.8, 2, 9)\n",
    "\n",
    "ax = plt.subplot()\n",
    "ax.bar(value_a_x, value_a, color='#00000022', label='Weak collision')\n",
    "ax.bar(value_b_x, value_b, color='#000000FF', label='Strong collision')\n",
    "\n",
    "middle_x = [(a+b)/2 for (a,b) in zip(value_a_x, value_b_x)]\n",
    "\n",
    "ax.set_xticks(middle_x)\n",
    "ax.set_xticklabels(topics)\n",
    "\n",
    "plt.legend(loc='lower right', fontsize=15, bbox_to_anchor=(1.41, -0.021))\n",
    "\n",
    "plt.show()"
   ]
  }
 ],
 "metadata": {
  "kernelspec": {
   "display_name": "Python 3",
   "language": "python",
   "name": "python3"
  },
  "language_info": {
   "codemirror_mode": {
    "name": "ipython",
    "version": 3
   },
   "file_extension": ".py",
   "mimetype": "text/x-python",
   "name": "python",
   "nbconvert_exporter": "python",
   "pygments_lexer": "ipython3",
   "version": "3.6.10"
  }
 },
 "nbformat": 4,
 "nbformat_minor": 4
}
